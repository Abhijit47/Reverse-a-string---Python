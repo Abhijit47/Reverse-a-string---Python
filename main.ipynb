{
 "cells": [
  {
   "cell_type": "markdown",
   "metadata": {},
   "source": [
    "# Write a Python program to reverse a string\n",
    "\n",
    "# Sample String : \"LetsUpgrade\"\n",
    "\n",
    "# Expected Output : \"edargpUsteL\""
   ]
  },
  {
   "cell_type": "code",
   "execution_count": 16,
   "metadata": {},
   "outputs": [
    {
     "name": "stdout",
     "output_type": "stream",
     "text": [
      "Your string before reverse:  LetsUpgrade\n",
      "\n",
      "\n",
      "\n",
      "\n",
      "After Reverse String:  edargpUsteL\n"
     ]
    }
   ],
   "source": [
    "string = input(\"Enter a string: \")\n",
    "print(\"Your string before reverse: \",string)\n",
    "print(\"\\n\")\n",
    "print(\"\\n\")\n",
    "reverseString=string[::-1]\n",
    "print(\"After Reverse String: \",reverseString)"
   ]
  },
  {
   "cell_type": "code",
   "execution_count": 8,
   "metadata": {},
   "outputs": [
    {
     "name": "stdout",
     "output_type": "stream",
     "text": [
      "edargpU steL\n"
     ]
    }
   ],
   "source": [
    "def reverseString(x): \n",
    "    return x[::-1]\n",
    "\n",
    "\n",
    "revStr = reverseString(\"Lets Upgrade\")\n",
    "\n",
    "print(revStr)"
   ]
  }
 ],
 "metadata": {
  "kernelspec": {
   "display_name": "Python 3.10.6 64-bit",
   "language": "python",
   "name": "python3"
  },
  "language_info": {
   "codemirror_mode": {
    "name": "ipython",
    "version": 3
   },
   "file_extension": ".py",
   "mimetype": "text/x-python",
   "name": "python",
   "nbconvert_exporter": "python",
   "pygments_lexer": "ipython3",
   "version": "3.10.6"
  },
  "orig_nbformat": 4,
  "vscode": {
   "interpreter": {
    "hash": "369f2c481f4da34e4445cda3fffd2e751bd1c4d706f27375911949ba6bb62e1c"
   }
  }
 },
 "nbformat": 4,
 "nbformat_minor": 2
}
